{
 "cells": [
  {
   "cell_type": "code",
   "execution_count": null,
   "id": "6a541326",
   "metadata": {},
   "outputs": [],
   "source": [
    "for x in range(2000, 3200):\n",
    "    if x%7==0 and x%5!=0:\n",
    "        print (x)"
   ]
  },
  {
   "cell_type": "code",
   "execution_count": null,
   "id": "09185892",
   "metadata": {},
   "outputs": [],
   "source": [
    "factorial = 1\n",
    "x = int(input())\n",
    "while x!=0: \n",
    "    factorial=factorial*x\n",
    "    x=x-1\n",
    "print(factorial)"
   ]
  },
  {
   "cell_type": "code",
   "execution_count": null,
   "id": "9b4868ce",
   "metadata": {},
   "outputs": [],
   "source": [
    "x = int(input())\n",
    "Dict = {}\n",
    "for i in range(1,x):\n",
    "    Dict[i]=i*i\n",
    "    i = i+1\n",
    "print(Dict)"
   ]
  },
  {
   "cell_type": "code",
   "execution_count": null,
   "id": "5ddf2f78",
   "metadata": {},
   "outputs": [],
   "source": [
    "print(\"Input a non-empty string\")\n",
    "s = input()\n",
    "print(\"Input character index to be removed\")\n",
    "i = int(input())\n",
    "if len(s) > i:\n",
    "    s = s[0 : i : ] + s[i + 1 : :]\n",
    "print(s)\n"
   ]
  },
  {
   "cell_type": "code",
   "execution_count": null,
   "id": "66e1720c",
   "metadata": {},
   "outputs": [],
   "source": [
    "import numpy as np\n",
    "array = np.array([[2,4,6],[8,10,12]])\n",
    "print(\"Array as numpy array: \\n\")\n",
    "print(array)\n",
    "list1 = array.tolist()\n",
    "print(\"\\n Array as a list: \\n\")\n",
    "print(list1)"
   ]
  },
  {
   "cell_type": "code",
   "execution_count": null,
   "id": "bacaa444",
   "metadata": {},
   "outputs": [],
   "source": [
    "import numpy as np\n",
    "x = np.array([1, 2, 4])\n",
    "y = np.array([6, 3, 1])\n",
    "print(\"\\n Original array1:\")\n",
    "print(x)\n",
    "print(\"\\n Original array1:\")\n",
    "print(y)\n",
    "print(\"\\n Covariance matrix of the two arrays is:\\n\",np.cov(x, y))"
   ]
  },
  {
   "cell_type": "code",
   "execution_count": null,
   "id": "77a76aa1",
   "metadata": {},
   "outputs": [],
   "source": [
    "import math\n",
    "c=50\n",
    "h=30\n",
    "value = []\n",
    "items=[x for x in input().split(',')]\n",
    "for d in items:\n",
    "    value.append(str(int(round(math.sqrt(2*c*float(d)/h)))))\n",
    "\n",
    "print(','.join(value))"
   ]
  },
  {
   "cell_type": "code",
   "execution_count": null,
   "id": "43bbbfdc",
   "metadata": {},
   "outputs": [],
   "source": []
  }
 ],
 "metadata": {
  "kernelspec": {
   "display_name": "Python 3",
   "language": "python",
   "name": "python3"
  },
  "language_info": {
   "codemirror_mode": {
    "name": "ipython",
    "version": 3
   },
   "file_extension": ".py",
   "mimetype": "text/x-python",
   "name": "python",
   "nbconvert_exporter": "python",
   "pygments_lexer": "ipython3",
   "version": "3.8.8"
  }
 },
 "nbformat": 4,
 "nbformat_minor": 5
}
